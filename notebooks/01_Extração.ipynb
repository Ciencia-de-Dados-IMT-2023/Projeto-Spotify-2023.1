{
 "cells": [
  {
   "cell_type": "code",
   "execution_count": 3,
   "metadata": {},
   "outputs": [
    {
     "data": {
      "text/plain": [
       "'BQB-4n_XKC6qAHvNBWXn5x8-izd-IJbBnX0v5UFApqZUPEeUujJViOExzcQyDyx9KhtSMwugW40XhzEq1RJwXwAdppBgkPUa8YPm8KU25YQsvehsbgo'"
      ]
     },
     "execution_count": 3,
     "metadata": {},
     "output_type": "execute_result"
    }
   ],
   "source": [
    "import pandas as pd\n",
    "import json\n",
    "import requests\n",
    "import os\n",
    "from dotenv import load_dotenv\n",
    "\n",
    "load_dotenv()\n",
    "API_TOKEN = str(os.getenv('API_TOKEN'))\n",
    "API_TOKEN"
   ]
  },
  {
   "cell_type": "code",
   "execution_count": 4,
   "metadata": {},
   "outputs": [],
   "source": [
    "def read_json_file(path: str=None, url: str=None) -> dict:\n",
    "    # with open(path, 'r') as f:\n",
    "    #     return json.load(f)\n",
    "    response = requests.get(url)\n",
    "    data = response.json()\n",
    "    return data"
   ]
  },
  {
   "cell_type": "code",
   "execution_count": 5,
   "metadata": {},
   "outputs": [],
   "source": [
    "path = 'https://raw.githubusercontent.com/Ciencia-de-Dados-IMT-2023/Datasets/main/spotify_million_playlist_dataset/mpd.slice.0-999.json'\n",
    "data = read_json_file(url=path)"
   ]
  },
  {
   "cell_type": "code",
   "execution_count": 6,
   "metadata": {},
   "outputs": [
    {
     "name": "stdout",
     "output_type": "stream",
     "text": [
      "0 - Playlist: Throwbacks\n"
     ]
    }
   ],
   "source": [
    "df_musicas = pd.DataFrame()\n",
    "\n",
    "# Itera sobre as playlists\n",
    "for playlist in data['playlists']:\n",
    "    name_playlist = playlist['name']\n",
    "    id_playlist = playlist['pid']\n",
    "\n",
    "    print(f'{id_playlist} - Playlist: {name_playlist}')\n",
    "\n",
    "    # Itera sobre as músicas da playlist\n",
    "    musicas_playlist = playlist['tracks']\n",
    "\n",
    "    for musica in musicas_playlist:\n",
    "        name_musica = musica['track_name']\n",
    "        id_musica = musica['track_uri']\n",
    "\n",
    "        # print(f'\\tMúsica: {name_musica} - ID: {id_musica}')\n",
    "        df_musica_aux = pd.DataFrame.from_dict(musica, orient='index')\n",
    "        df_musica_aux = df_musica_aux.T\n",
    "\n",
    "        # Adiciona o nome da playlist e o id da playlist\n",
    "\n",
    "\n",
    "        df_musica_aux['playlist_name'] = name_playlist\n",
    "        df_musica_aux['playlist_id'] = id_playlist\n",
    "\n",
    "        df_musica_aux = df_musica_aux.T\n",
    "        df_musicas = pd.concat([df_musicas, df_musica_aux], axis=1)\n",
    "        \n",
    "        # break\n",
    "    break\n",
    "\n",
    "df_musicas = df_musicas.T\n",
    "# df_musicas.to_csv('data/df_musicas_parte_1.csv', index=False)"
   ]
  },
  {
   "cell_type": "code",
   "execution_count": 7,
   "metadata": {},
   "outputs": [],
   "source": [
    "# scripts/api_spotify.py\n",
    "\n",
    "def make_req(route: str, id: str) -> requests.models.Response:\n",
    "    url = f'https://api.spotify.com/v1/{route}/{id}'\n",
    "\n",
    "    headers = {\n",
    "        'Authorization': f'Bearer {API_TOKEN}'\n",
    "    }\n",
    "\n",
    "    response = requests.get(url, headers=headers)\n",
    "\n",
    "    if response.status_code != 200:\n",
    "        print(f'Erro: {response.status_code}')\n",
    "        print(f'Erro: {response.json()}')\n",
    "        import sys\n",
    "        sys.exit(1)\n",
    "\n",
    "    else:\n",
    "        return response\n",
    "\n",
    "\n",
    "def get_track(id_track: str) -> dict:\n",
    "\n",
    "    return make_req('tracks', id_track).json()\n",
    "\n",
    "\n",
    "def get_album(id_album: str) -> dict:\n",
    "\n",
    "    return make_req('albums', id_album).json()\n",
    "\n",
    "\n",
    "def get_artist_data(id_artist: str) -> dict:\n",
    "\n",
    "    return make_req('artists', id_artist).json()\n",
    "\n",
    "\n",
    "def get_audio_features(id_track: str) -> dict:\n",
    "\n",
    "    return make_req('audio-features', id_track).json()\n",
    "\n"
   ]
  },
  {
   "cell_type": "code",
   "execution_count": 8,
   "metadata": {},
   "outputs": [],
   "source": [
    "\n",
    "def get_music_features(id_music: str) -> dict:\n",
    "    \n",
    "    # 1. Get track data\n",
    "    track_data = get_track(id_music)\n",
    "\n",
    "    # 2. Get audio features\n",
    "    audio_features = get_audio_features(id_music)\n",
    "\n",
    "    # 3. Merge data\n",
    "    track_data.update(audio_features)\n",
    "\n",
    "    # 4. Define relevant features\n",
    "    relevant_features = [\n",
    "        'id', 'name', 'explicit', 'duration_ms', \n",
    "        'popularity', 'danceability', 'energy',\n",
    "        'key', 'loudness', 'mode', 'speechiness', 'acousticness',\n",
    "        'instrumentalness', 'liveness', 'valence', 'tempo',\n",
    "        'time_signature'\n",
    "    ]\n",
    "\n",
    "    track_data = {k: track_data[k] for k in relevant_features}\n",
    "\n",
    "    return track_data\n",
    "\n",
    "\n",
    "def get_album_features(id_album: str) -> dict:\n",
    "\n",
    "    # 1. Get album data\n",
    "    album_data = get_album(id_album)\n",
    "\n",
    "    # 2. Define relevant features\n",
    "    relevant_features = [\n",
    "        'id', 'genres', 'popularity', 'name', 'release_date', 'total_tracks', 'type'\n",
    "    ]\n",
    "\n",
    "    album_data = {k: album_data[k] for k in relevant_features}\n",
    "\n",
    "    # 3. Add \"album_\" prefix to each key\n",
    "    album_data = {f'album_{k}': v for k, v in album_data.items()}\n",
    "\n",
    "    return album_data\n",
    "\n",
    "\n",
    "def get_artist_features(id_artist: str) -> dict:\n",
    "    # pass # get_artist_data\n",
    "\n",
    "    # 1. Get artist data\n",
    "    artist_data = get_artist_data(id_artist)\n",
    "\n",
    "    # 2. Define relevant features\n",
    "    relevant_features = [\n",
    "        'id', 'genres', 'popularity', 'name', 'type', 'followers'\n",
    "    ]\n",
    "\n",
    "    artist_data = {k: artist_data[k] for k in relevant_features}\n",
    "\n",
    "    # 3. Add \"artist_\" prefix to each key\n",
    "    artist_data = {f'artist_{k}': v for k, v in artist_data.items()}\n",
    "\n",
    "    return artist_data"
   ]
  },
  {
   "cell_type": "code",
   "execution_count": 9,
   "metadata": {},
   "outputs": [
    {
     "data": {
      "text/plain": [
       "{'id': '0UaMYEvWZi0ZqiDOoHU3YI',\n",
       " 'name': 'Lose Control (feat. Ciara & Fat Man Scoop)',\n",
       " 'explicit': True,\n",
       " 'duration_ms': 226864,\n",
       " 'popularity': 69,\n",
       " 'danceability': 0.904,\n",
       " 'energy': 0.813,\n",
       " 'key': 4,\n",
       " 'loudness': -7.105,\n",
       " 'mode': 0,\n",
       " 'speechiness': 0.121,\n",
       " 'acousticness': 0.0311,\n",
       " 'instrumentalness': 0.00697,\n",
       " 'liveness': 0.0471,\n",
       " 'valence': 0.81,\n",
       " 'tempo': 125.461,\n",
       " 'time_signature': 4}"
      ]
     },
     "execution_count": 9,
     "metadata": {},
     "output_type": "execute_result"
    }
   ],
   "source": [
    "get_music_features('0UaMYEvWZi0ZqiDOoHU3YI')"
   ]
  },
  {
   "cell_type": "code",
   "execution_count": 10,
   "metadata": {},
   "outputs": [
    {
     "data": {
      "text/plain": [
       "{'album_id': '6vV5UrXcfyQD1wu4Qo2I9K',\n",
       " 'album_genres': [],\n",
       " 'album_popularity': 62,\n",
       " 'album_name': 'The Cookbook',\n",
       " 'album_release_date': '2005-07-04',\n",
       " 'album_total_tracks': 16,\n",
       " 'album_type': 'album'}"
      ]
     },
     "execution_count": 10,
     "metadata": {},
     "output_type": "execute_result"
    }
   ],
   "source": [
    "get_album_features('6vV5UrXcfyQD1wu4Qo2I9K')"
   ]
  },
  {
   "cell_type": "code",
   "execution_count": 11,
   "metadata": {},
   "outputs": [
    {
     "data": {
      "text/plain": [
       "{'artist_id': '2wIVse2owClT7go1WT98tk',\n",
       " 'artist_genres': ['dance pop',\n",
       "  'hip hop',\n",
       "  'hip pop',\n",
       "  'neo soul',\n",
       "  'pop rap',\n",
       "  'r&b',\n",
       "  'rap',\n",
       "  'urban contemporary',\n",
       "  'virginia hip hop'],\n",
       " 'artist_popularity': 72,\n",
       " 'artist_name': 'Missy Elliott',\n",
       " 'artist_type': 'artist',\n",
       " 'artist_followers': {'href': None, 'total': 2218538}}"
      ]
     },
     "execution_count": 11,
     "metadata": {},
     "output_type": "execute_result"
    }
   ],
   "source": [
    "get_artist_features('2wIVse2owClT7go1WT98tk')"
   ]
  },
  {
   "cell_type": "code",
   "execution_count": 12,
   "metadata": {},
   "outputs": [
    {
     "data": {
      "text/html": [
       "<div>\n",
       "<style scoped>\n",
       "    .dataframe tbody tr th:only-of-type {\n",
       "        vertical-align: middle;\n",
       "    }\n",
       "\n",
       "    .dataframe tbody tr th {\n",
       "        vertical-align: top;\n",
       "    }\n",
       "\n",
       "    .dataframe thead th {\n",
       "        text-align: right;\n",
       "    }\n",
       "</style>\n",
       "<table border=\"1\" class=\"dataframe\">\n",
       "  <thead>\n",
       "    <tr style=\"text-align: right;\">\n",
       "      <th></th>\n",
       "      <th>track_uri</th>\n",
       "      <th>artist_uri</th>\n",
       "      <th>album_uri</th>\n",
       "      <th>playlist_name</th>\n",
       "      <th>playlist_id</th>\n",
       "    </tr>\n",
       "  </thead>\n",
       "  <tbody>\n",
       "    <tr>\n",
       "      <th>0</th>\n",
       "      <td>0UaMYEvWZi0ZqiDOoHU3YI</td>\n",
       "      <td>2wIVse2owClT7go1WT98tk</td>\n",
       "      <td>6vV5UrXcfyQD1wu4Qo2I9K</td>\n",
       "      <td>Throwbacks</td>\n",
       "      <td>0</td>\n",
       "    </tr>\n",
       "    <tr>\n",
       "      <th>0</th>\n",
       "      <td>6I9VzXrHxO9rA9A5euc8Ak</td>\n",
       "      <td>26dSoYclwsYLMAKD3tpOr4</td>\n",
       "      <td>0z7pVBGOD7HCIB7S8eLkLI</td>\n",
       "      <td>Throwbacks</td>\n",
       "      <td>0</td>\n",
       "    </tr>\n",
       "    <tr>\n",
       "      <th>0</th>\n",
       "      <td>0WqIKmW4BTrj3eJFmnCKMv</td>\n",
       "      <td>6vWDO969PvNqNYHIOW5v0m</td>\n",
       "      <td>25hVFAxTlDvXbx2X2QkUkE</td>\n",
       "      <td>Throwbacks</td>\n",
       "      <td>0</td>\n",
       "    </tr>\n",
       "    <tr>\n",
       "      <th>0</th>\n",
       "      <td>1AWQoqb9bSvzTjaLralEkT</td>\n",
       "      <td>31TPClRtHm23RisEBtV3X7</td>\n",
       "      <td>6QPkyl04rXwTGlGlcYaRoW</td>\n",
       "      <td>Throwbacks</td>\n",
       "      <td>0</td>\n",
       "    </tr>\n",
       "    <tr>\n",
       "      <th>0</th>\n",
       "      <td>1lzr43nnXAijIGYnCT8M8H</td>\n",
       "      <td>5EvFsr3kj42KNv97ZEnqij</td>\n",
       "      <td>6NmFmPX56pcLBOFMhIiKvF</td>\n",
       "      <td>Throwbacks</td>\n",
       "      <td>0</td>\n",
       "    </tr>\n",
       "  </tbody>\n",
       "</table>\n",
       "</div>"
      ],
      "text/plain": [
       "                track_uri              artist_uri               album_uri  \\\n",
       "0  0UaMYEvWZi0ZqiDOoHU3YI  2wIVse2owClT7go1WT98tk  6vV5UrXcfyQD1wu4Qo2I9K   \n",
       "0  6I9VzXrHxO9rA9A5euc8Ak  26dSoYclwsYLMAKD3tpOr4  0z7pVBGOD7HCIB7S8eLkLI   \n",
       "0  0WqIKmW4BTrj3eJFmnCKMv  6vWDO969PvNqNYHIOW5v0m  25hVFAxTlDvXbx2X2QkUkE   \n",
       "0  1AWQoqb9bSvzTjaLralEkT  31TPClRtHm23RisEBtV3X7  6QPkyl04rXwTGlGlcYaRoW   \n",
       "0  1lzr43nnXAijIGYnCT8M8H  5EvFsr3kj42KNv97ZEnqij  6NmFmPX56pcLBOFMhIiKvF   \n",
       "\n",
       "  playlist_name playlist_id  \n",
       "0    Throwbacks           0  \n",
       "0    Throwbacks           0  \n",
       "0    Throwbacks           0  \n",
       "0    Throwbacks           0  \n",
       "0    Throwbacks           0  "
      ]
     },
     "execution_count": 12,
     "metadata": {},
     "output_type": "execute_result"
    }
   ],
   "source": [
    "df_musicas = df_musicas[['track_uri', 'artist_uri', 'album_uri', 'playlist_name', 'playlist_id']]\n",
    "\n",
    "df_musicas['track_uri'] = df_musicas['track_uri'].str.replace('spotify:track:', '')\n",
    "df_musicas['artist_uri'] = df_musicas['artist_uri'].str.replace('spotify:artist:', '')\n",
    "df_musicas['album_uri'] = df_musicas['album_uri'].str.replace('spotify:album:', '')\n",
    "\n",
    "df_musicas.head(5)"
   ]
  },
  {
   "cell_type": "code",
   "execution_count": 13,
   "metadata": {},
   "outputs": [
    {
     "data": {
      "text/plain": [
       "{'id': '0UaMYEvWZi0ZqiDOoHU3YI',\n",
       " 'name': 'Lose Control (feat. Ciara & Fat Man Scoop)',\n",
       " 'explicit': True,\n",
       " 'duration_ms': 226864,\n",
       " 'popularity': 69,\n",
       " 'danceability': 0.904,\n",
       " 'energy': 0.813,\n",
       " 'key': 4,\n",
       " 'loudness': -7.105,\n",
       " 'mode': 0,\n",
       " 'speechiness': 0.121,\n",
       " 'acousticness': 0.0311,\n",
       " 'instrumentalness': 0.00697,\n",
       " 'liveness': 0.0471,\n",
       " 'valence': 0.81,\n",
       " 'tempo': 125.461,\n",
       " 'time_signature': 4}"
      ]
     },
     "execution_count": 13,
     "metadata": {},
     "output_type": "execute_result"
    }
   ],
   "source": [
    "get_music_features('0UaMYEvWZi0ZqiDOoHU3YI')"
   ]
  },
  {
   "cell_type": "code",
   "execution_count": 14,
   "metadata": {},
   "outputs": [
    {
     "ename": "KeyboardInterrupt",
     "evalue": "",
     "output_type": "error",
     "traceback": [
      "\u001b[1;31m---------------------------------------------------------------------------\u001b[0m",
      "\u001b[1;31mKeyboardInterrupt\u001b[0m                         Traceback (most recent call last)",
      "\u001b[1;32mc:\\Users\\guilherme.barbosa\\Desktop\\Projeto-Spotify-2023.1\\notebooks\\01_Extração.ipynb Célula 12\u001b[0m in \u001b[0;36m<module>\u001b[1;34m\u001b[0m\n\u001b[0;32m      <a href='vscode-notebook-cell:/c%3A/Users/guilherme.barbosa/Desktop/Projeto-Spotify-2023.1/notebooks/01_Extra%C3%A7%C3%A3o.ipynb#X14sZmlsZQ%3D%3D?line=1'>2</a>\u001b[0m df_musicas \u001b[39m=\u001b[39m df_musicas\u001b[39m.\u001b[39mmerge(\n\u001b[0;32m      <a href='vscode-notebook-cell:/c%3A/Users/guilherme.barbosa/Desktop/Projeto-Spotify-2023.1/notebooks/01_Extra%C3%A7%C3%A3o.ipynb#X14sZmlsZQ%3D%3D?line=2'>3</a>\u001b[0m     df_musicas[\u001b[39m'\u001b[39m\u001b[39mtrack_uri\u001b[39m\u001b[39m'\u001b[39m]\u001b[39m.\u001b[39mapply(get_music_features)\u001b[39m.\u001b[39mapply(pd\u001b[39m.\u001b[39mSeries),\n\u001b[0;32m      <a href='vscode-notebook-cell:/c%3A/Users/guilherme.barbosa/Desktop/Projeto-Spotify-2023.1/notebooks/01_Extra%C3%A7%C3%A3o.ipynb#X14sZmlsZQ%3D%3D?line=3'>4</a>\u001b[0m     left_index\u001b[39m=\u001b[39m\u001b[39mTrue\u001b[39;00m,\n\u001b[0;32m      <a href='vscode-notebook-cell:/c%3A/Users/guilherme.barbosa/Desktop/Projeto-Spotify-2023.1/notebooks/01_Extra%C3%A7%C3%A3o.ipynb#X14sZmlsZQ%3D%3D?line=4'>5</a>\u001b[0m     right_index\u001b[39m=\u001b[39m\u001b[39mTrue\u001b[39;00m\n\u001b[0;32m      <a href='vscode-notebook-cell:/c%3A/Users/guilherme.barbosa/Desktop/Projeto-Spotify-2023.1/notebooks/01_Extra%C3%A7%C3%A3o.ipynb#X14sZmlsZQ%3D%3D?line=5'>6</a>\u001b[0m )\n\u001b[0;32m      <a href='vscode-notebook-cell:/c%3A/Users/guilherme.barbosa/Desktop/Projeto-Spotify-2023.1/notebooks/01_Extra%C3%A7%C3%A3o.ipynb#X14sZmlsZQ%3D%3D?line=7'>8</a>\u001b[0m \u001b[39m# Adiciona as features de álbum\u001b[39;00m\n\u001b[0;32m      <a href='vscode-notebook-cell:/c%3A/Users/guilherme.barbosa/Desktop/Projeto-Spotify-2023.1/notebooks/01_Extra%C3%A7%C3%A3o.ipynb#X14sZmlsZQ%3D%3D?line=8'>9</a>\u001b[0m df_musicas \u001b[39m=\u001b[39m df_musicas\u001b[39m.\u001b[39mmerge(\n\u001b[1;32m---> <a href='vscode-notebook-cell:/c%3A/Users/guilherme.barbosa/Desktop/Projeto-Spotify-2023.1/notebooks/01_Extra%C3%A7%C3%A3o.ipynb#X14sZmlsZQ%3D%3D?line=9'>10</a>\u001b[0m     df_musicas[\u001b[39m'\u001b[39;49m\u001b[39malbum_uri\u001b[39;49m\u001b[39m'\u001b[39;49m]\u001b[39m.\u001b[39;49mapply(get_album_features)\u001b[39m.\u001b[39mapply(pd\u001b[39m.\u001b[39mSeries),\n\u001b[0;32m     <a href='vscode-notebook-cell:/c%3A/Users/guilherme.barbosa/Desktop/Projeto-Spotify-2023.1/notebooks/01_Extra%C3%A7%C3%A3o.ipynb#X14sZmlsZQ%3D%3D?line=10'>11</a>\u001b[0m     left_index\u001b[39m=\u001b[39m\u001b[39mTrue\u001b[39;00m,\n\u001b[0;32m     <a href='vscode-notebook-cell:/c%3A/Users/guilherme.barbosa/Desktop/Projeto-Spotify-2023.1/notebooks/01_Extra%C3%A7%C3%A3o.ipynb#X14sZmlsZQ%3D%3D?line=11'>12</a>\u001b[0m     right_index\u001b[39m=\u001b[39m\u001b[39mTrue\u001b[39;00m\n\u001b[0;32m     <a href='vscode-notebook-cell:/c%3A/Users/guilherme.barbosa/Desktop/Projeto-Spotify-2023.1/notebooks/01_Extra%C3%A7%C3%A3o.ipynb#X14sZmlsZQ%3D%3D?line=12'>13</a>\u001b[0m )\n\u001b[0;32m     <a href='vscode-notebook-cell:/c%3A/Users/guilherme.barbosa/Desktop/Projeto-Spotify-2023.1/notebooks/01_Extra%C3%A7%C3%A3o.ipynb#X14sZmlsZQ%3D%3D?line=14'>15</a>\u001b[0m \u001b[39m# Adiciona as features de artista\u001b[39;00m\n\u001b[0;32m     <a href='vscode-notebook-cell:/c%3A/Users/guilherme.barbosa/Desktop/Projeto-Spotify-2023.1/notebooks/01_Extra%C3%A7%C3%A3o.ipynb#X14sZmlsZQ%3D%3D?line=15'>16</a>\u001b[0m df_musicas \u001b[39m=\u001b[39m df_musicas\u001b[39m.\u001b[39mmerge(\n\u001b[0;32m     <a href='vscode-notebook-cell:/c%3A/Users/guilherme.barbosa/Desktop/Projeto-Spotify-2023.1/notebooks/01_Extra%C3%A7%C3%A3o.ipynb#X14sZmlsZQ%3D%3D?line=16'>17</a>\u001b[0m     df_musicas[\u001b[39m'\u001b[39m\u001b[39martist_uri\u001b[39m\u001b[39m'\u001b[39m]\u001b[39m.\u001b[39mapply(get_artist_features)\u001b[39m.\u001b[39mapply(pd\u001b[39m.\u001b[39mSeries),\n\u001b[0;32m     <a href='vscode-notebook-cell:/c%3A/Users/guilherme.barbosa/Desktop/Projeto-Spotify-2023.1/notebooks/01_Extra%C3%A7%C3%A3o.ipynb#X14sZmlsZQ%3D%3D?line=17'>18</a>\u001b[0m     left_index\u001b[39m=\u001b[39m\u001b[39mTrue\u001b[39;00m,\n\u001b[0;32m     <a href='vscode-notebook-cell:/c%3A/Users/guilherme.barbosa/Desktop/Projeto-Spotify-2023.1/notebooks/01_Extra%C3%A7%C3%A3o.ipynb#X14sZmlsZQ%3D%3D?line=18'>19</a>\u001b[0m     right_index\u001b[39m=\u001b[39m\u001b[39mTrue\u001b[39;00m\n\u001b[0;32m     <a href='vscode-notebook-cell:/c%3A/Users/guilherme.barbosa/Desktop/Projeto-Spotify-2023.1/notebooks/01_Extra%C3%A7%C3%A3o.ipynb#X14sZmlsZQ%3D%3D?line=19'>20</a>\u001b[0m )\n",
      "File \u001b[1;32mc:\\Users\\guilherme.barbosa\\AppData\\Local\\Programs\\Python\\Python38\\lib\\site-packages\\pandas\\core\\series.py:4433\u001b[0m, in \u001b[0;36mSeries.apply\u001b[1;34m(self, func, convert_dtype, args, **kwargs)\u001b[0m\n\u001b[0;32m   4323\u001b[0m \u001b[39mdef\u001b[39;00m \u001b[39mapply\u001b[39m(\n\u001b[0;32m   4324\u001b[0m     \u001b[39mself\u001b[39m,\n\u001b[0;32m   4325\u001b[0m     func: AggFuncType,\n\u001b[1;32m   (...)\u001b[0m\n\u001b[0;32m   4328\u001b[0m     \u001b[39m*\u001b[39m\u001b[39m*\u001b[39mkwargs,\n\u001b[0;32m   4329\u001b[0m ) \u001b[39m-\u001b[39m\u001b[39m>\u001b[39m DataFrame \u001b[39m|\u001b[39m Series:\n\u001b[0;32m   4330\u001b[0m     \u001b[39m\"\"\"\u001b[39;00m\n\u001b[0;32m   4331\u001b[0m \u001b[39m    Invoke function on values of Series.\u001b[39;00m\n\u001b[0;32m   4332\u001b[0m \n\u001b[1;32m   (...)\u001b[0m\n\u001b[0;32m   4431\u001b[0m \u001b[39m    dtype: float64\u001b[39;00m\n\u001b[0;32m   4432\u001b[0m \u001b[39m    \"\"\"\u001b[39;00m\n\u001b[1;32m-> 4433\u001b[0m     \u001b[39mreturn\u001b[39;00m SeriesApply(\u001b[39mself\u001b[39;49m, func, convert_dtype, args, kwargs)\u001b[39m.\u001b[39;49mapply()\n",
      "File \u001b[1;32mc:\\Users\\guilherme.barbosa\\AppData\\Local\\Programs\\Python\\Python38\\lib\\site-packages\\pandas\\core\\apply.py:1082\u001b[0m, in \u001b[0;36mSeriesApply.apply\u001b[1;34m(self)\u001b[0m\n\u001b[0;32m   1078\u001b[0m \u001b[39mif\u001b[39;00m \u001b[39misinstance\u001b[39m(\u001b[39mself\u001b[39m\u001b[39m.\u001b[39mf, \u001b[39mstr\u001b[39m):\n\u001b[0;32m   1079\u001b[0m     \u001b[39m# if we are a string, try to dispatch\u001b[39;00m\n\u001b[0;32m   1080\u001b[0m     \u001b[39mreturn\u001b[39;00m \u001b[39mself\u001b[39m\u001b[39m.\u001b[39mapply_str()\n\u001b[1;32m-> 1082\u001b[0m \u001b[39mreturn\u001b[39;00m \u001b[39mself\u001b[39;49m\u001b[39m.\u001b[39;49mapply_standard()\n",
      "File \u001b[1;32mc:\\Users\\guilherme.barbosa\\AppData\\Local\\Programs\\Python\\Python38\\lib\\site-packages\\pandas\\core\\apply.py:1137\u001b[0m, in \u001b[0;36mSeriesApply.apply_standard\u001b[1;34m(self)\u001b[0m\n\u001b[0;32m   1131\u001b[0m         values \u001b[39m=\u001b[39m obj\u001b[39m.\u001b[39mastype(\u001b[39mobject\u001b[39m)\u001b[39m.\u001b[39m_values\n\u001b[0;32m   1132\u001b[0m         \u001b[39m# error: Argument 2 to \"map_infer\" has incompatible type\u001b[39;00m\n\u001b[0;32m   1133\u001b[0m         \u001b[39m# \"Union[Callable[..., Any], str, List[Union[Callable[..., Any], str]],\u001b[39;00m\n\u001b[0;32m   1134\u001b[0m         \u001b[39m# Dict[Hashable, Union[Union[Callable[..., Any], str],\u001b[39;00m\n\u001b[0;32m   1135\u001b[0m         \u001b[39m# List[Union[Callable[..., Any], str]]]]]\"; expected\u001b[39;00m\n\u001b[0;32m   1136\u001b[0m         \u001b[39m# \"Callable[[Any], Any]\"\u001b[39;00m\n\u001b[1;32m-> 1137\u001b[0m         mapped \u001b[39m=\u001b[39m lib\u001b[39m.\u001b[39;49mmap_infer(\n\u001b[0;32m   1138\u001b[0m             values,\n\u001b[0;32m   1139\u001b[0m             f,  \u001b[39m# type: ignore[arg-type]\u001b[39;49;00m\n\u001b[0;32m   1140\u001b[0m             convert\u001b[39m=\u001b[39;49m\u001b[39mself\u001b[39;49m\u001b[39m.\u001b[39;49mconvert_dtype,\n\u001b[0;32m   1141\u001b[0m         )\n\u001b[0;32m   1143\u001b[0m \u001b[39mif\u001b[39;00m \u001b[39mlen\u001b[39m(mapped) \u001b[39mand\u001b[39;00m \u001b[39misinstance\u001b[39m(mapped[\u001b[39m0\u001b[39m], ABCSeries):\n\u001b[0;32m   1144\u001b[0m     \u001b[39m# GH#43986 Need to do list(mapped) in order to get treated as nested\u001b[39;00m\n\u001b[0;32m   1145\u001b[0m     \u001b[39m#  See also GH#25959 regarding EA support\u001b[39;00m\n\u001b[0;32m   1146\u001b[0m     \u001b[39mreturn\u001b[39;00m obj\u001b[39m.\u001b[39m_constructor_expanddim(\u001b[39mlist\u001b[39m(mapped), index\u001b[39m=\u001b[39mobj\u001b[39m.\u001b[39mindex)\n",
      "File \u001b[1;32mc:\\Users\\guilherme.barbosa\\AppData\\Local\\Programs\\Python\\Python38\\lib\\site-packages\\pandas\\_libs\\lib.pyx:2870\u001b[0m, in \u001b[0;36mpandas._libs.lib.map_infer\u001b[1;34m()\u001b[0m\n",
      "\u001b[1;32mc:\\Users\\guilherme.barbosa\\Desktop\\Projeto-Spotify-2023.1\\notebooks\\01_Extração.ipynb Célula 12\u001b[0m in \u001b[0;36mget_album_features\u001b[1;34m(id_album)\u001b[0m\n\u001b[0;32m     <a href='vscode-notebook-cell:/c%3A/Users/guilherme.barbosa/Desktop/Projeto-Spotify-2023.1/notebooks/01_Extra%C3%A7%C3%A3o.ipynb#X14sZmlsZQ%3D%3D?line=25'>26</a>\u001b[0m \u001b[39mdef\u001b[39;00m \u001b[39mget_album_features\u001b[39m(id_album: \u001b[39mstr\u001b[39m) \u001b[39m-\u001b[39m\u001b[39m>\u001b[39m \u001b[39mdict\u001b[39m:\n\u001b[0;32m     <a href='vscode-notebook-cell:/c%3A/Users/guilherme.barbosa/Desktop/Projeto-Spotify-2023.1/notebooks/01_Extra%C3%A7%C3%A3o.ipynb#X14sZmlsZQ%3D%3D?line=26'>27</a>\u001b[0m \n\u001b[0;32m     <a href='vscode-notebook-cell:/c%3A/Users/guilherme.barbosa/Desktop/Projeto-Spotify-2023.1/notebooks/01_Extra%C3%A7%C3%A3o.ipynb#X14sZmlsZQ%3D%3D?line=27'>28</a>\u001b[0m     \u001b[39m# 1. Get album data\u001b[39;00m\n\u001b[1;32m---> <a href='vscode-notebook-cell:/c%3A/Users/guilherme.barbosa/Desktop/Projeto-Spotify-2023.1/notebooks/01_Extra%C3%A7%C3%A3o.ipynb#X14sZmlsZQ%3D%3D?line=28'>29</a>\u001b[0m     album_data \u001b[39m=\u001b[39m get_album(id_album)\n\u001b[0;32m     <a href='vscode-notebook-cell:/c%3A/Users/guilherme.barbosa/Desktop/Projeto-Spotify-2023.1/notebooks/01_Extra%C3%A7%C3%A3o.ipynb#X14sZmlsZQ%3D%3D?line=30'>31</a>\u001b[0m     \u001b[39m# 2. Define relevant features\u001b[39;00m\n\u001b[0;32m     <a href='vscode-notebook-cell:/c%3A/Users/guilherme.barbosa/Desktop/Projeto-Spotify-2023.1/notebooks/01_Extra%C3%A7%C3%A3o.ipynb#X14sZmlsZQ%3D%3D?line=31'>32</a>\u001b[0m     relevant_features \u001b[39m=\u001b[39m [\n\u001b[0;32m     <a href='vscode-notebook-cell:/c%3A/Users/guilherme.barbosa/Desktop/Projeto-Spotify-2023.1/notebooks/01_Extra%C3%A7%C3%A3o.ipynb#X14sZmlsZQ%3D%3D?line=32'>33</a>\u001b[0m         \u001b[39m'\u001b[39m\u001b[39mid\u001b[39m\u001b[39m'\u001b[39m, \u001b[39m'\u001b[39m\u001b[39mgenres\u001b[39m\u001b[39m'\u001b[39m, \u001b[39m'\u001b[39m\u001b[39mpopularity\u001b[39m\u001b[39m'\u001b[39m, \u001b[39m'\u001b[39m\u001b[39mname\u001b[39m\u001b[39m'\u001b[39m, \u001b[39m'\u001b[39m\u001b[39mrelease_date\u001b[39m\u001b[39m'\u001b[39m, \u001b[39m'\u001b[39m\u001b[39mtotal_tracks\u001b[39m\u001b[39m'\u001b[39m, \u001b[39m'\u001b[39m\u001b[39mtype\u001b[39m\u001b[39m'\u001b[39m\n\u001b[0;32m     <a href='vscode-notebook-cell:/c%3A/Users/guilherme.barbosa/Desktop/Projeto-Spotify-2023.1/notebooks/01_Extra%C3%A7%C3%A3o.ipynb#X14sZmlsZQ%3D%3D?line=33'>34</a>\u001b[0m     ]\n",
      "\u001b[1;32mc:\\Users\\guilherme.barbosa\\Desktop\\Projeto-Spotify-2023.1\\notebooks\\01_Extração.ipynb Célula 12\u001b[0m in \u001b[0;36mget_album\u001b[1;34m(id_album)\u001b[0m\n\u001b[0;32m     <a href='vscode-notebook-cell:/c%3A/Users/guilherme.barbosa/Desktop/Projeto-Spotify-2023.1/notebooks/01_Extra%C3%A7%C3%A3o.ipynb#X14sZmlsZQ%3D%3D?line=26'>27</a>\u001b[0m \u001b[39mdef\u001b[39;00m \u001b[39mget_album\u001b[39m(id_album: \u001b[39mstr\u001b[39m) \u001b[39m-\u001b[39m\u001b[39m>\u001b[39m \u001b[39mdict\u001b[39m:\n\u001b[1;32m---> <a href='vscode-notebook-cell:/c%3A/Users/guilherme.barbosa/Desktop/Projeto-Spotify-2023.1/notebooks/01_Extra%C3%A7%C3%A3o.ipynb#X14sZmlsZQ%3D%3D?line=28'>29</a>\u001b[0m     \u001b[39mreturn\u001b[39;00m make_req(\u001b[39m'\u001b[39;49m\u001b[39malbums\u001b[39;49m\u001b[39m'\u001b[39;49m, id_album)\u001b[39m.\u001b[39mjson()\n",
      "\u001b[1;32mc:\\Users\\guilherme.barbosa\\Desktop\\Projeto-Spotify-2023.1\\notebooks\\01_Extração.ipynb Célula 12\u001b[0m in \u001b[0;36mmake_req\u001b[1;34m(route, id)\u001b[0m\n\u001b[0;32m      <a href='vscode-notebook-cell:/c%3A/Users/guilherme.barbosa/Desktop/Projeto-Spotify-2023.1/notebooks/01_Extra%C3%A7%C3%A3o.ipynb#X14sZmlsZQ%3D%3D?line=3'>4</a>\u001b[0m url \u001b[39m=\u001b[39m \u001b[39mf\u001b[39m\u001b[39m'\u001b[39m\u001b[39mhttps://api.spotify.com/v1/\u001b[39m\u001b[39m{\u001b[39;00mroute\u001b[39m}\u001b[39;00m\u001b[39m/\u001b[39m\u001b[39m{\u001b[39;00m\u001b[39mid\u001b[39m\u001b[39m}\u001b[39;00m\u001b[39m'\u001b[39m\n\u001b[0;32m      <a href='vscode-notebook-cell:/c%3A/Users/guilherme.barbosa/Desktop/Projeto-Spotify-2023.1/notebooks/01_Extra%C3%A7%C3%A3o.ipynb#X14sZmlsZQ%3D%3D?line=5'>6</a>\u001b[0m headers \u001b[39m=\u001b[39m {\n\u001b[0;32m      <a href='vscode-notebook-cell:/c%3A/Users/guilherme.barbosa/Desktop/Projeto-Spotify-2023.1/notebooks/01_Extra%C3%A7%C3%A3o.ipynb#X14sZmlsZQ%3D%3D?line=6'>7</a>\u001b[0m     \u001b[39m'\u001b[39m\u001b[39mAuthorization\u001b[39m\u001b[39m'\u001b[39m: \u001b[39mf\u001b[39m\u001b[39m'\u001b[39m\u001b[39mBearer \u001b[39m\u001b[39m{\u001b[39;00mAPI_TOKEN\u001b[39m}\u001b[39;00m\u001b[39m'\u001b[39m\n\u001b[0;32m      <a href='vscode-notebook-cell:/c%3A/Users/guilherme.barbosa/Desktop/Projeto-Spotify-2023.1/notebooks/01_Extra%C3%A7%C3%A3o.ipynb#X14sZmlsZQ%3D%3D?line=7'>8</a>\u001b[0m }\n\u001b[1;32m---> <a href='vscode-notebook-cell:/c%3A/Users/guilherme.barbosa/Desktop/Projeto-Spotify-2023.1/notebooks/01_Extra%C3%A7%C3%A3o.ipynb#X14sZmlsZQ%3D%3D?line=9'>10</a>\u001b[0m response \u001b[39m=\u001b[39m requests\u001b[39m.\u001b[39;49mget(url, headers\u001b[39m=\u001b[39;49mheaders)\n\u001b[0;32m     <a href='vscode-notebook-cell:/c%3A/Users/guilherme.barbosa/Desktop/Projeto-Spotify-2023.1/notebooks/01_Extra%C3%A7%C3%A3o.ipynb#X14sZmlsZQ%3D%3D?line=11'>12</a>\u001b[0m \u001b[39mif\u001b[39;00m response\u001b[39m.\u001b[39mstatus_code \u001b[39m!=\u001b[39m \u001b[39m200\u001b[39m:\n\u001b[0;32m     <a href='vscode-notebook-cell:/c%3A/Users/guilherme.barbosa/Desktop/Projeto-Spotify-2023.1/notebooks/01_Extra%C3%A7%C3%A3o.ipynb#X14sZmlsZQ%3D%3D?line=12'>13</a>\u001b[0m     \u001b[39mprint\u001b[39m(\u001b[39mf\u001b[39m\u001b[39m'\u001b[39m\u001b[39mErro: \u001b[39m\u001b[39m{\u001b[39;00mresponse\u001b[39m.\u001b[39mstatus_code\u001b[39m}\u001b[39;00m\u001b[39m'\u001b[39m)\n",
      "File \u001b[1;32mc:\\Users\\guilherme.barbosa\\AppData\\Local\\Programs\\Python\\Python38\\lib\\site-packages\\requests\\api.py:75\u001b[0m, in \u001b[0;36mget\u001b[1;34m(url, params, **kwargs)\u001b[0m\n\u001b[0;32m     64\u001b[0m \u001b[39mdef\u001b[39;00m \u001b[39mget\u001b[39m(url, params\u001b[39m=\u001b[39m\u001b[39mNone\u001b[39;00m, \u001b[39m*\u001b[39m\u001b[39m*\u001b[39mkwargs):\n\u001b[0;32m     65\u001b[0m     \u001b[39mr\u001b[39m\u001b[39m\"\"\"Sends a GET request.\u001b[39;00m\n\u001b[0;32m     66\u001b[0m \n\u001b[0;32m     67\u001b[0m \u001b[39m    :param url: URL for the new :class:`Request` object.\u001b[39;00m\n\u001b[1;32m   (...)\u001b[0m\n\u001b[0;32m     72\u001b[0m \u001b[39m    :rtype: requests.Response\u001b[39;00m\n\u001b[0;32m     73\u001b[0m \u001b[39m    \"\"\"\u001b[39;00m\n\u001b[1;32m---> 75\u001b[0m     \u001b[39mreturn\u001b[39;00m request(\u001b[39m'\u001b[39;49m\u001b[39mget\u001b[39;49m\u001b[39m'\u001b[39;49m, url, params\u001b[39m=\u001b[39;49mparams, \u001b[39m*\u001b[39;49m\u001b[39m*\u001b[39;49mkwargs)\n",
      "File \u001b[1;32mc:\\Users\\guilherme.barbosa\\AppData\\Local\\Programs\\Python\\Python38\\lib\\site-packages\\requests\\api.py:61\u001b[0m, in \u001b[0;36mrequest\u001b[1;34m(method, url, **kwargs)\u001b[0m\n\u001b[0;32m     57\u001b[0m \u001b[39m# By using the 'with' statement we are sure the session is closed, thus we\u001b[39;00m\n\u001b[0;32m     58\u001b[0m \u001b[39m# avoid leaving sockets open which can trigger a ResourceWarning in some\u001b[39;00m\n\u001b[0;32m     59\u001b[0m \u001b[39m# cases, and look like a memory leak in others.\u001b[39;00m\n\u001b[0;32m     60\u001b[0m \u001b[39mwith\u001b[39;00m sessions\u001b[39m.\u001b[39mSession() \u001b[39mas\u001b[39;00m session:\n\u001b[1;32m---> 61\u001b[0m     \u001b[39mreturn\u001b[39;00m session\u001b[39m.\u001b[39;49mrequest(method\u001b[39m=\u001b[39;49mmethod, url\u001b[39m=\u001b[39;49murl, \u001b[39m*\u001b[39;49m\u001b[39m*\u001b[39;49mkwargs)\n",
      "File \u001b[1;32mc:\\Users\\guilherme.barbosa\\AppData\\Local\\Programs\\Python\\Python38\\lib\\site-packages\\requests\\sessions.py:529\u001b[0m, in \u001b[0;36mSession.request\u001b[1;34m(self, method, url, params, data, headers, cookies, files, auth, timeout, allow_redirects, proxies, hooks, stream, verify, cert, json)\u001b[0m\n\u001b[0;32m    524\u001b[0m send_kwargs \u001b[39m=\u001b[39m {\n\u001b[0;32m    525\u001b[0m     \u001b[39m'\u001b[39m\u001b[39mtimeout\u001b[39m\u001b[39m'\u001b[39m: timeout,\n\u001b[0;32m    526\u001b[0m     \u001b[39m'\u001b[39m\u001b[39mallow_redirects\u001b[39m\u001b[39m'\u001b[39m: allow_redirects,\n\u001b[0;32m    527\u001b[0m }\n\u001b[0;32m    528\u001b[0m send_kwargs\u001b[39m.\u001b[39mupdate(settings)\n\u001b[1;32m--> 529\u001b[0m resp \u001b[39m=\u001b[39m \u001b[39mself\u001b[39;49m\u001b[39m.\u001b[39;49msend(prep, \u001b[39m*\u001b[39;49m\u001b[39m*\u001b[39;49msend_kwargs)\n\u001b[0;32m    531\u001b[0m \u001b[39mreturn\u001b[39;00m resp\n",
      "File \u001b[1;32mc:\\Users\\guilherme.barbosa\\AppData\\Local\\Programs\\Python\\Python38\\lib\\site-packages\\requests\\sessions.py:645\u001b[0m, in \u001b[0;36mSession.send\u001b[1;34m(self, request, **kwargs)\u001b[0m\n\u001b[0;32m    642\u001b[0m start \u001b[39m=\u001b[39m preferred_clock()\n\u001b[0;32m    644\u001b[0m \u001b[39m# Send the request\u001b[39;00m\n\u001b[1;32m--> 645\u001b[0m r \u001b[39m=\u001b[39m adapter\u001b[39m.\u001b[39;49msend(request, \u001b[39m*\u001b[39;49m\u001b[39m*\u001b[39;49mkwargs)\n\u001b[0;32m    647\u001b[0m \u001b[39m# Total elapsed time of the request (approximately)\u001b[39;00m\n\u001b[0;32m    648\u001b[0m elapsed \u001b[39m=\u001b[39m preferred_clock() \u001b[39m-\u001b[39m start\n",
      "File \u001b[1;32mc:\\Users\\guilherme.barbosa\\AppData\\Local\\Programs\\Python\\Python38\\lib\\site-packages\\requests\\adapters.py:440\u001b[0m, in \u001b[0;36mHTTPAdapter.send\u001b[1;34m(self, request, stream, timeout, verify, cert, proxies)\u001b[0m\n\u001b[0;32m    438\u001b[0m \u001b[39mtry\u001b[39;00m:\n\u001b[0;32m    439\u001b[0m     \u001b[39mif\u001b[39;00m \u001b[39mnot\u001b[39;00m chunked:\n\u001b[1;32m--> 440\u001b[0m         resp \u001b[39m=\u001b[39m conn\u001b[39m.\u001b[39;49murlopen(\n\u001b[0;32m    441\u001b[0m             method\u001b[39m=\u001b[39;49mrequest\u001b[39m.\u001b[39;49mmethod,\n\u001b[0;32m    442\u001b[0m             url\u001b[39m=\u001b[39;49murl,\n\u001b[0;32m    443\u001b[0m             body\u001b[39m=\u001b[39;49mrequest\u001b[39m.\u001b[39;49mbody,\n\u001b[0;32m    444\u001b[0m             headers\u001b[39m=\u001b[39;49mrequest\u001b[39m.\u001b[39;49mheaders,\n\u001b[0;32m    445\u001b[0m             redirect\u001b[39m=\u001b[39;49m\u001b[39mFalse\u001b[39;49;00m,\n\u001b[0;32m    446\u001b[0m             assert_same_host\u001b[39m=\u001b[39;49m\u001b[39mFalse\u001b[39;49;00m,\n\u001b[0;32m    447\u001b[0m             preload_content\u001b[39m=\u001b[39;49m\u001b[39mFalse\u001b[39;49;00m,\n\u001b[0;32m    448\u001b[0m             decode_content\u001b[39m=\u001b[39;49m\u001b[39mFalse\u001b[39;49;00m,\n\u001b[0;32m    449\u001b[0m             retries\u001b[39m=\u001b[39;49m\u001b[39mself\u001b[39;49m\u001b[39m.\u001b[39;49mmax_retries,\n\u001b[0;32m    450\u001b[0m             timeout\u001b[39m=\u001b[39;49mtimeout\n\u001b[0;32m    451\u001b[0m         )\n\u001b[0;32m    453\u001b[0m     \u001b[39m# Send the request.\u001b[39;00m\n\u001b[0;32m    454\u001b[0m     \u001b[39melse\u001b[39;00m:\n\u001b[0;32m    455\u001b[0m         \u001b[39mif\u001b[39;00m \u001b[39mhasattr\u001b[39m(conn, \u001b[39m'\u001b[39m\u001b[39mproxy_pool\u001b[39m\u001b[39m'\u001b[39m):\n",
      "File \u001b[1;32mc:\\Users\\guilherme.barbosa\\AppData\\Local\\Programs\\Python\\Python38\\lib\\site-packages\\urllib3\\connectionpool.py:703\u001b[0m, in \u001b[0;36mHTTPConnectionPool.urlopen\u001b[1;34m(self, method, url, body, headers, retries, redirect, assert_same_host, timeout, pool_timeout, release_conn, chunked, body_pos, **response_kw)\u001b[0m\n\u001b[0;32m    700\u001b[0m     \u001b[39mself\u001b[39m\u001b[39m.\u001b[39m_prepare_proxy(conn)\n\u001b[0;32m    702\u001b[0m \u001b[39m# Make the request on the httplib connection object.\u001b[39;00m\n\u001b[1;32m--> 703\u001b[0m httplib_response \u001b[39m=\u001b[39m \u001b[39mself\u001b[39;49m\u001b[39m.\u001b[39;49m_make_request(\n\u001b[0;32m    704\u001b[0m     conn,\n\u001b[0;32m    705\u001b[0m     method,\n\u001b[0;32m    706\u001b[0m     url,\n\u001b[0;32m    707\u001b[0m     timeout\u001b[39m=\u001b[39;49mtimeout_obj,\n\u001b[0;32m    708\u001b[0m     body\u001b[39m=\u001b[39;49mbody,\n\u001b[0;32m    709\u001b[0m     headers\u001b[39m=\u001b[39;49mheaders,\n\u001b[0;32m    710\u001b[0m     chunked\u001b[39m=\u001b[39;49mchunked,\n\u001b[0;32m    711\u001b[0m )\n\u001b[0;32m    713\u001b[0m \u001b[39m# If we're going to release the connection in ``finally:``, then\u001b[39;00m\n\u001b[0;32m    714\u001b[0m \u001b[39m# the response doesn't need to know about the connection. Otherwise\u001b[39;00m\n\u001b[0;32m    715\u001b[0m \u001b[39m# it will also try to release it and we'll have a double-release\u001b[39;00m\n\u001b[0;32m    716\u001b[0m \u001b[39m# mess.\u001b[39;00m\n\u001b[0;32m    717\u001b[0m response_conn \u001b[39m=\u001b[39m conn \u001b[39mif\u001b[39;00m \u001b[39mnot\u001b[39;00m release_conn \u001b[39melse\u001b[39;00m \u001b[39mNone\u001b[39;00m\n",
      "File \u001b[1;32mc:\\Users\\guilherme.barbosa\\AppData\\Local\\Programs\\Python\\Python38\\lib\\site-packages\\urllib3\\connectionpool.py:449\u001b[0m, in \u001b[0;36mHTTPConnectionPool._make_request\u001b[1;34m(self, conn, method, url, timeout, chunked, **httplib_request_kw)\u001b[0m\n\u001b[0;32m    444\u001b[0m             httplib_response \u001b[39m=\u001b[39m conn\u001b[39m.\u001b[39mgetresponse()\n\u001b[0;32m    445\u001b[0m         \u001b[39mexcept\u001b[39;00m \u001b[39mBaseException\u001b[39;00m \u001b[39mas\u001b[39;00m e:\n\u001b[0;32m    446\u001b[0m             \u001b[39m# Remove the TypeError from the exception chain in\u001b[39;00m\n\u001b[0;32m    447\u001b[0m             \u001b[39m# Python 3 (including for exceptions like SystemExit).\u001b[39;00m\n\u001b[0;32m    448\u001b[0m             \u001b[39m# Otherwise it looks like a bug in the code.\u001b[39;00m\n\u001b[1;32m--> 449\u001b[0m             six\u001b[39m.\u001b[39;49mraise_from(e, \u001b[39mNone\u001b[39;49;00m)\n\u001b[0;32m    450\u001b[0m \u001b[39mexcept\u001b[39;00m (SocketTimeout, BaseSSLError, SocketError) \u001b[39mas\u001b[39;00m e:\n\u001b[0;32m    451\u001b[0m     \u001b[39mself\u001b[39m\u001b[39m.\u001b[39m_raise_timeout(err\u001b[39m=\u001b[39me, url\u001b[39m=\u001b[39murl, timeout_value\u001b[39m=\u001b[39mread_timeout)\n",
      "File \u001b[1;32m<string>:3\u001b[0m, in \u001b[0;36mraise_from\u001b[1;34m(value, from_value)\u001b[0m\n",
      "File \u001b[1;32mc:\\Users\\guilherme.barbosa\\AppData\\Local\\Programs\\Python\\Python38\\lib\\site-packages\\urllib3\\connectionpool.py:444\u001b[0m, in \u001b[0;36mHTTPConnectionPool._make_request\u001b[1;34m(self, conn, method, url, timeout, chunked, **httplib_request_kw)\u001b[0m\n\u001b[0;32m    441\u001b[0m \u001b[39mexcept\u001b[39;00m \u001b[39mTypeError\u001b[39;00m:\n\u001b[0;32m    442\u001b[0m     \u001b[39m# Python 3\u001b[39;00m\n\u001b[0;32m    443\u001b[0m     \u001b[39mtry\u001b[39;00m:\n\u001b[1;32m--> 444\u001b[0m         httplib_response \u001b[39m=\u001b[39m conn\u001b[39m.\u001b[39;49mgetresponse()\n\u001b[0;32m    445\u001b[0m     \u001b[39mexcept\u001b[39;00m \u001b[39mBaseException\u001b[39;00m \u001b[39mas\u001b[39;00m e:\n\u001b[0;32m    446\u001b[0m         \u001b[39m# Remove the TypeError from the exception chain in\u001b[39;00m\n\u001b[0;32m    447\u001b[0m         \u001b[39m# Python 3 (including for exceptions like SystemExit).\u001b[39;00m\n\u001b[0;32m    448\u001b[0m         \u001b[39m# Otherwise it looks like a bug in the code.\u001b[39;00m\n\u001b[0;32m    449\u001b[0m         six\u001b[39m.\u001b[39mraise_from(e, \u001b[39mNone\u001b[39;00m)\n",
      "File \u001b[1;32mc:\\Users\\guilherme.barbosa\\AppData\\Local\\Programs\\Python\\Python38\\lib\\http\\client.py:1344\u001b[0m, in \u001b[0;36mHTTPConnection.getresponse\u001b[1;34m(self)\u001b[0m\n\u001b[0;32m   1342\u001b[0m \u001b[39mtry\u001b[39;00m:\n\u001b[0;32m   1343\u001b[0m     \u001b[39mtry\u001b[39;00m:\n\u001b[1;32m-> 1344\u001b[0m         response\u001b[39m.\u001b[39;49mbegin()\n\u001b[0;32m   1345\u001b[0m     \u001b[39mexcept\u001b[39;00m \u001b[39mConnectionError\u001b[39;00m:\n\u001b[0;32m   1346\u001b[0m         \u001b[39mself\u001b[39m\u001b[39m.\u001b[39mclose()\n",
      "File \u001b[1;32mc:\\Users\\guilherme.barbosa\\AppData\\Local\\Programs\\Python\\Python38\\lib\\http\\client.py:307\u001b[0m, in \u001b[0;36mHTTPResponse.begin\u001b[1;34m(self)\u001b[0m\n\u001b[0;32m    305\u001b[0m \u001b[39m# read until we get a non-100 response\u001b[39;00m\n\u001b[0;32m    306\u001b[0m \u001b[39mwhile\u001b[39;00m \u001b[39mTrue\u001b[39;00m:\n\u001b[1;32m--> 307\u001b[0m     version, status, reason \u001b[39m=\u001b[39m \u001b[39mself\u001b[39;49m\u001b[39m.\u001b[39;49m_read_status()\n\u001b[0;32m    308\u001b[0m     \u001b[39mif\u001b[39;00m status \u001b[39m!=\u001b[39m CONTINUE:\n\u001b[0;32m    309\u001b[0m         \u001b[39mbreak\u001b[39;00m\n",
      "File \u001b[1;32mc:\\Users\\guilherme.barbosa\\AppData\\Local\\Programs\\Python\\Python38\\lib\\http\\client.py:268\u001b[0m, in \u001b[0;36mHTTPResponse._read_status\u001b[1;34m(self)\u001b[0m\n\u001b[0;32m    267\u001b[0m \u001b[39mdef\u001b[39;00m \u001b[39m_read_status\u001b[39m(\u001b[39mself\u001b[39m):\n\u001b[1;32m--> 268\u001b[0m     line \u001b[39m=\u001b[39m \u001b[39mstr\u001b[39m(\u001b[39mself\u001b[39;49m\u001b[39m.\u001b[39;49mfp\u001b[39m.\u001b[39;49mreadline(_MAXLINE \u001b[39m+\u001b[39;49m \u001b[39m1\u001b[39;49m), \u001b[39m\"\u001b[39m\u001b[39miso-8859-1\u001b[39m\u001b[39m\"\u001b[39m)\n\u001b[0;32m    269\u001b[0m     \u001b[39mif\u001b[39;00m \u001b[39mlen\u001b[39m(line) \u001b[39m>\u001b[39m _MAXLINE:\n\u001b[0;32m    270\u001b[0m         \u001b[39mraise\u001b[39;00m LineTooLong(\u001b[39m\"\u001b[39m\u001b[39mstatus line\u001b[39m\u001b[39m\"\u001b[39m)\n",
      "File \u001b[1;32mc:\\Users\\guilherme.barbosa\\AppData\\Local\\Programs\\Python\\Python38\\lib\\socket.py:669\u001b[0m, in \u001b[0;36mSocketIO.readinto\u001b[1;34m(self, b)\u001b[0m\n\u001b[0;32m    667\u001b[0m \u001b[39mwhile\u001b[39;00m \u001b[39mTrue\u001b[39;00m:\n\u001b[0;32m    668\u001b[0m     \u001b[39mtry\u001b[39;00m:\n\u001b[1;32m--> 669\u001b[0m         \u001b[39mreturn\u001b[39;00m \u001b[39mself\u001b[39;49m\u001b[39m.\u001b[39;49m_sock\u001b[39m.\u001b[39;49mrecv_into(b)\n\u001b[0;32m    670\u001b[0m     \u001b[39mexcept\u001b[39;00m timeout:\n\u001b[0;32m    671\u001b[0m         \u001b[39mself\u001b[39m\u001b[39m.\u001b[39m_timeout_occurred \u001b[39m=\u001b[39m \u001b[39mTrue\u001b[39;00m\n",
      "File \u001b[1;32mc:\\Users\\guilherme.barbosa\\AppData\\Local\\Programs\\Python\\Python38\\lib\\ssl.py:1241\u001b[0m, in \u001b[0;36mSSLSocket.recv_into\u001b[1;34m(self, buffer, nbytes, flags)\u001b[0m\n\u001b[0;32m   1237\u001b[0m     \u001b[39mif\u001b[39;00m flags \u001b[39m!=\u001b[39m \u001b[39m0\u001b[39m:\n\u001b[0;32m   1238\u001b[0m         \u001b[39mraise\u001b[39;00m \u001b[39mValueError\u001b[39;00m(\n\u001b[0;32m   1239\u001b[0m           \u001b[39m\"\u001b[39m\u001b[39mnon-zero flags not allowed in calls to recv_into() on \u001b[39m\u001b[39m%s\u001b[39;00m\u001b[39m\"\u001b[39m \u001b[39m%\u001b[39m\n\u001b[0;32m   1240\u001b[0m           \u001b[39mself\u001b[39m\u001b[39m.\u001b[39m\u001b[39m__class__\u001b[39m)\n\u001b[1;32m-> 1241\u001b[0m     \u001b[39mreturn\u001b[39;00m \u001b[39mself\u001b[39;49m\u001b[39m.\u001b[39;49mread(nbytes, buffer)\n\u001b[0;32m   1242\u001b[0m \u001b[39melse\u001b[39;00m:\n\u001b[0;32m   1243\u001b[0m     \u001b[39mreturn\u001b[39;00m \u001b[39msuper\u001b[39m()\u001b[39m.\u001b[39mrecv_into(buffer, nbytes, flags)\n",
      "File \u001b[1;32mc:\\Users\\guilherme.barbosa\\AppData\\Local\\Programs\\Python\\Python38\\lib\\ssl.py:1099\u001b[0m, in \u001b[0;36mSSLSocket.read\u001b[1;34m(self, len, buffer)\u001b[0m\n\u001b[0;32m   1097\u001b[0m \u001b[39mtry\u001b[39;00m:\n\u001b[0;32m   1098\u001b[0m     \u001b[39mif\u001b[39;00m buffer \u001b[39mis\u001b[39;00m \u001b[39mnot\u001b[39;00m \u001b[39mNone\u001b[39;00m:\n\u001b[1;32m-> 1099\u001b[0m         \u001b[39mreturn\u001b[39;00m \u001b[39mself\u001b[39;49m\u001b[39m.\u001b[39;49m_sslobj\u001b[39m.\u001b[39;49mread(\u001b[39mlen\u001b[39;49m, buffer)\n\u001b[0;32m   1100\u001b[0m     \u001b[39melse\u001b[39;00m:\n\u001b[0;32m   1101\u001b[0m         \u001b[39mreturn\u001b[39;00m \u001b[39mself\u001b[39m\u001b[39m.\u001b[39m_sslobj\u001b[39m.\u001b[39mread(\u001b[39mlen\u001b[39m)\n",
      "\u001b[1;31mKeyboardInterrupt\u001b[0m: "
     ]
    }
   ],
   "source": [
    "# Adiciona as features de música\n",
    "df_musicas = df_musicas.merge(\n",
    "    df_musicas['track_uri'].apply(get_music_features).apply(pd.Series),\n",
    "    left_index=True,\n",
    "    right_index=True\n",
    ")\n",
    "\n",
    "# Adiciona as features de álbum\n",
    "df_musicas = df_musicas.merge(\n",
    "    df_musicas['album_uri'].apply(get_album_features).apply(pd.Series),\n",
    "    left_index=True,\n",
    "    right_index=True\n",
    ")\n",
    "\n",
    "# Adiciona as features de artista\n",
    "df_musicas = df_musicas.merge(\n",
    "    df_musicas['artist_uri'].apply(get_artist_features).apply(pd.Series),\n",
    "    left_index=True,\n",
    "    right_index=True\n",
    ")\n",
    "\n",
    "\n",
    "df_musicas.head(5)"
   ]
  }
 ],
 "metadata": {
  "kernelspec": {
   "display_name": "Python 3",
   "language": "python",
   "name": "python3"
  },
  "language_info": {
   "codemirror_mode": {
    "name": "ipython",
    "version": 3
   },
   "file_extension": ".py",
   "mimetype": "text/x-python",
   "name": "python",
   "nbconvert_exporter": "python",
   "pygments_lexer": "ipython3",
   "version": "3.8.10"
  },
  "orig_nbformat": 4
 },
 "nbformat": 4,
 "nbformat_minor": 2
}
