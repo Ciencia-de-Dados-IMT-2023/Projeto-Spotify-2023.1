{
 "cells": [
  {
   "cell_type": "code",
   "execution_count": 1,
   "metadata": {},
   "outputs": [
    {
     "name": "stderr",
     "output_type": "stream",
     "text": [
      "c:\\Users\\guilherme.barbosa\\AppData\\Local\\Programs\\Python\\Python38\\lib\\site-packages\\requests\\__init__.py:102: RequestsDependencyWarning: urllib3 (1.26.15) or chardet (5.1.0)/charset_normalizer (2.0.12) doesn't match a supported version!\n",
      "  warnings.warn(\"urllib3 ({}) or chardet ({})/charset_normalizer ({}) doesn't match a supported \"\n"
     ]
    }
   ],
   "source": [
    "import pandas as pd\n",
    "import json\n",
    "import requests\n",
    "import os\n",
    "from dotenv import load_dotenv\n",
    "\n",
    "load_dotenv()\n",
    "API_TOKEN = str(os.getenv('API_TOKEN'))"
   ]
  },
  {
   "cell_type": "code",
   "execution_count": 2,
   "metadata": {},
   "outputs": [],
   "source": [
    "def read_json_file(path: str=None, url: str=None) -> dict:\n",
    "    # with open(path, 'r') as f:\n",
    "    #     return json.load(f)\n",
    "    response = requests.get(url)\n",
    "    data = response.json()\n",
    "    return data"
   ]
  },
  {
   "cell_type": "code",
   "execution_count": 3,
   "metadata": {},
   "outputs": [],
   "source": [
    "path = 'https://raw.githubusercontent.com/Ciencia-de-Dados-IMT-2023/Datasets/main/spotify_million_playlist_dataset/mpd.slice.0-999.json'\n",
    "data = read_json_file(url=path)"
   ]
  },
  {
   "cell_type": "code",
   "execution_count": 4,
   "metadata": {},
   "outputs": [
    {
     "name": "stdout",
     "output_type": "stream",
     "text": [
      "0 - Playlist: Throwbacks\n"
     ]
    }
   ],
   "source": [
    "df_musicas = pd.DataFrame()\n",
    "\n",
    "# Itera sobre as playlists\n",
    "for playlist in data['playlists']:\n",
    "    name_playlist = playlist['name']\n",
    "    id_playlist = playlist['pid']\n",
    "\n",
    "    print(f'{id_playlist} - Playlist: {name_playlist}')\n",
    "\n",
    "    # Itera sobre as músicas da playlist\n",
    "    musicas_playlist = playlist['tracks']\n",
    "\n",
    "    for musica in musicas_playlist:\n",
    "        name_musica = musica['track_name']\n",
    "        id_musica = musica['track_uri']\n",
    "\n",
    "        # print(f'\\tMúsica: {name_musica} - ID: {id_musica}')\n",
    "        df_musica_aux = pd.DataFrame.from_dict(musica, orient='index')\n",
    "        df_musica_aux = df_musica_aux.T\n",
    "\n",
    "        # Adiciona o nome da playlist e o id da playlist\n",
    "\n",
    "\n",
    "        df_musica_aux['playlist_name'] = name_playlist\n",
    "        df_musica_aux['playlist_id'] = id_playlist\n",
    "\n",
    "        df_musica_aux = df_musica_aux.T\n",
    "        df_musicas = pd.concat([df_musicas, df_musica_aux], axis=1)\n",
    "        \n",
    "        # break\n",
    "    break\n",
    "\n",
    "df_musicas = df_musicas.T\n",
    "# df_musicas.to_csv('data/df_musicas_parte_1.csv', index=False)"
   ]
  },
  {
   "cell_type": "code",
   "execution_count": 5,
   "metadata": {},
   "outputs": [],
   "source": [
    "# scripts/api_spotify.py\n",
    "\n",
    "def make_req(route: str, id: str) -> requests.models.Response:\n",
    "    url = f'https://api.spotify.com/v1/{route}/{id}'\n",
    "\n",
    "    headers = {\n",
    "        'Authorization': f'Bearer {API_TOKEN}'\n",
    "    }\n",
    "\n",
    "    response = requests.get(url, headers=headers)\n",
    "\n",
    "    if response.status_code != 200:\n",
    "        print(f'Erro: {response.status_code}')\n",
    "        print(f'Erro: {response.json()}')\n",
    "        import sys\n",
    "        sys.exit(1)\n",
    "\n",
    "    else:\n",
    "        return response\n",
    "\n",
    "\n",
    "def get_track(id_track: str) -> dict:\n",
    "\n",
    "    return make_req('tracks', id_track).json()\n",
    "\n",
    "\n",
    "def get_album(id_album: str) -> dict:\n",
    "\n",
    "    return make_req('albums', id_album).json()\n",
    "\n",
    "\n",
    "def get_artist_data(id_artist: str) -> dict:\n",
    "\n",
    "    return make_req('artists', id_artist).json()\n",
    "\n",
    "\n",
    "def get_audio_features(id_track: str) -> dict:\n",
    "\n",
    "    return make_req('audio-features', id_track).json()\n",
    "\n"
   ]
  },
  {
   "cell_type": "code",
   "execution_count": 6,
   "metadata": {},
   "outputs": [],
   "source": [
    "\n",
    "def get_music_features(id_music: str) -> dict:\n",
    "    \n",
    "    # 1. Get track data\n",
    "    track_data = get_track(id_music)\n",
    "\n",
    "    # 2. Get audio features\n",
    "    audio_features = get_audio_features(id_music)\n",
    "\n",
    "    # 3. Merge data\n",
    "    track_data.update(audio_features)\n",
    "\n",
    "    # 4. Define relevant features\n",
    "    relevant_features = [\n",
    "        'id', 'name', 'explicit', 'duration_ms', \n",
    "        'popularity', 'danceability', 'energy',\n",
    "        'key', 'loudness', 'mode', 'speechiness', 'acousticness',\n",
    "        'instrumentalness', 'liveness', 'valence', 'tempo',\n",
    "        'time_signature'\n",
    "    ]\n",
    "\n",
    "    track_data = {k: track_data[k] for k in relevant_features}\n",
    "\n",
    "    return track_data\n",
    "\n",
    "\n",
    "def get_album_features(id_album: str) -> dict:\n",
    "\n",
    "    # 1. Get album data\n",
    "    album_data = get_album(id_album)\n",
    "\n",
    "    # 2. Define relevant features\n",
    "    relevant_features = [\n",
    "        'id', 'genres', 'popularity', 'name', 'release_date', 'total_tracks', 'type'\n",
    "    ]\n",
    "\n",
    "    album_data = {k: album_data[k] for k in relevant_features}\n",
    "\n",
    "    # 3. Add \"album_\" prefix to each key\n",
    "    album_data = {f'album_{k}': v for k, v in album_data.items()}\n",
    "\n",
    "    return album_data\n",
    "\n",
    "\n",
    "def get_artist_features(id_artist: str) -> dict:\n",
    "    # pass # get_artist_data\n",
    "\n",
    "    # 1. Get artist data\n",
    "    artist_data = get_artist_data(id_artist)\n",
    "\n",
    "    # 2. Define relevant features\n",
    "    relevant_features = [\n",
    "        'id', 'genres', 'popularity', 'name', 'type', 'followers'\n",
    "    ]\n",
    "\n",
    "    artist_data = {k: artist_data[k] for k in relevant_features}\n",
    "\n",
    "    # 3. Add \"artist_\" prefix to each key\n",
    "    artist_data = {f'artist_{k}': v for k, v in artist_data.items()}\n",
    "\n",
    "    return artist_data"
   ]
  },
  {
   "cell_type": "code",
   "execution_count": 7,
   "metadata": {},
   "outputs": [
    {
     "data": {
      "text/plain": [
       "{'id': '0UaMYEvWZi0ZqiDOoHU3YI',\n",
       " 'name': 'Lose Control (feat. Ciara & Fat Man Scoop)',\n",
       " 'explicit': True,\n",
       " 'duration_ms': 226864,\n",
       " 'popularity': 69,\n",
       " 'danceability': 0.904,\n",
       " 'energy': 0.813,\n",
       " 'key': 4,\n",
       " 'loudness': -7.105,\n",
       " 'mode': 0,\n",
       " 'speechiness': 0.121,\n",
       " 'acousticness': 0.0311,\n",
       " 'instrumentalness': 0.00697,\n",
       " 'liveness': 0.0471,\n",
       " 'valence': 0.81,\n",
       " 'tempo': 125.461,\n",
       " 'time_signature': 4}"
      ]
     },
     "execution_count": 7,
     "metadata": {},
     "output_type": "execute_result"
    }
   ],
   "source": [
    "get_music_features('0UaMYEvWZi0ZqiDOoHU3YI')"
   ]
  },
  {
   "cell_type": "code",
   "execution_count": 8,
   "metadata": {},
   "outputs": [
    {
     "data": {
      "text/plain": [
       "{'album_id': '6vV5UrXcfyQD1wu4Qo2I9K',\n",
       " 'album_genres': [],\n",
       " 'album_popularity': 62,\n",
       " 'album_name': 'The Cookbook',\n",
       " 'album_release_date': '2005-07-04',\n",
       " 'album_total_tracks': 16,\n",
       " 'album_type': 'album'}"
      ]
     },
     "execution_count": 8,
     "metadata": {},
     "output_type": "execute_result"
    }
   ],
   "source": [
    "get_album_features('6vV5UrXcfyQD1wu4Qo2I9K')"
   ]
  },
  {
   "cell_type": "code",
   "execution_count": 9,
   "metadata": {},
   "outputs": [
    {
     "data": {
      "text/plain": [
       "{'artist_id': '2wIVse2owClT7go1WT98tk',\n",
       " 'artist_genres': ['dance pop',\n",
       "  'hip hop',\n",
       "  'hip pop',\n",
       "  'neo soul',\n",
       "  'pop rap',\n",
       "  'r&b',\n",
       "  'rap',\n",
       "  'urban contemporary',\n",
       "  'virginia hip hop'],\n",
       " 'artist_popularity': 72,\n",
       " 'artist_name': 'Missy Elliott',\n",
       " 'artist_type': 'artist',\n",
       " 'artist_followers': {'href': None, 'total': 2218538}}"
      ]
     },
     "execution_count": 9,
     "metadata": {},
     "output_type": "execute_result"
    }
   ],
   "source": [
    "get_artist_features('2wIVse2owClT7go1WT98tk')"
   ]
  },
  {
   "cell_type": "code",
   "execution_count": 10,
   "metadata": {},
   "outputs": [
    {
     "data": {
      "text/html": [
       "<div>\n",
       "<style scoped>\n",
       "    .dataframe tbody tr th:only-of-type {\n",
       "        vertical-align: middle;\n",
       "    }\n",
       "\n",
       "    .dataframe tbody tr th {\n",
       "        vertical-align: top;\n",
       "    }\n",
       "\n",
       "    .dataframe thead th {\n",
       "        text-align: right;\n",
       "    }\n",
       "</style>\n",
       "<table border=\"1\" class=\"dataframe\">\n",
       "  <thead>\n",
       "    <tr style=\"text-align: right;\">\n",
       "      <th></th>\n",
       "      <th>track_uri</th>\n",
       "      <th>artist_uri</th>\n",
       "      <th>album_uri</th>\n",
       "      <th>playlist_name</th>\n",
       "      <th>playlist_id</th>\n",
       "    </tr>\n",
       "  </thead>\n",
       "  <tbody>\n",
       "    <tr>\n",
       "      <th>0</th>\n",
       "      <td>0UaMYEvWZi0ZqiDOoHU3YI</td>\n",
       "      <td>2wIVse2owClT7go1WT98tk</td>\n",
       "      <td>6vV5UrXcfyQD1wu4Qo2I9K</td>\n",
       "      <td>Throwbacks</td>\n",
       "      <td>0</td>\n",
       "    </tr>\n",
       "    <tr>\n",
       "      <th>0</th>\n",
       "      <td>6I9VzXrHxO9rA9A5euc8Ak</td>\n",
       "      <td>26dSoYclwsYLMAKD3tpOr4</td>\n",
       "      <td>0z7pVBGOD7HCIB7S8eLkLI</td>\n",
       "      <td>Throwbacks</td>\n",
       "      <td>0</td>\n",
       "    </tr>\n",
       "    <tr>\n",
       "      <th>0</th>\n",
       "      <td>0WqIKmW4BTrj3eJFmnCKMv</td>\n",
       "      <td>6vWDO969PvNqNYHIOW5v0m</td>\n",
       "      <td>25hVFAxTlDvXbx2X2QkUkE</td>\n",
       "      <td>Throwbacks</td>\n",
       "      <td>0</td>\n",
       "    </tr>\n",
       "    <tr>\n",
       "      <th>0</th>\n",
       "      <td>1AWQoqb9bSvzTjaLralEkT</td>\n",
       "      <td>31TPClRtHm23RisEBtV3X7</td>\n",
       "      <td>6QPkyl04rXwTGlGlcYaRoW</td>\n",
       "      <td>Throwbacks</td>\n",
       "      <td>0</td>\n",
       "    </tr>\n",
       "    <tr>\n",
       "      <th>0</th>\n",
       "      <td>1lzr43nnXAijIGYnCT8M8H</td>\n",
       "      <td>5EvFsr3kj42KNv97ZEnqij</td>\n",
       "      <td>6NmFmPX56pcLBOFMhIiKvF</td>\n",
       "      <td>Throwbacks</td>\n",
       "      <td>0</td>\n",
       "    </tr>\n",
       "  </tbody>\n",
       "</table>\n",
       "</div>"
      ],
      "text/plain": [
       "                track_uri              artist_uri               album_uri  \\\n",
       "0  0UaMYEvWZi0ZqiDOoHU3YI  2wIVse2owClT7go1WT98tk  6vV5UrXcfyQD1wu4Qo2I9K   \n",
       "0  6I9VzXrHxO9rA9A5euc8Ak  26dSoYclwsYLMAKD3tpOr4  0z7pVBGOD7HCIB7S8eLkLI   \n",
       "0  0WqIKmW4BTrj3eJFmnCKMv  6vWDO969PvNqNYHIOW5v0m  25hVFAxTlDvXbx2X2QkUkE   \n",
       "0  1AWQoqb9bSvzTjaLralEkT  31TPClRtHm23RisEBtV3X7  6QPkyl04rXwTGlGlcYaRoW   \n",
       "0  1lzr43nnXAijIGYnCT8M8H  5EvFsr3kj42KNv97ZEnqij  6NmFmPX56pcLBOFMhIiKvF   \n",
       "\n",
       "  playlist_name playlist_id  \n",
       "0    Throwbacks           0  \n",
       "0    Throwbacks           0  \n",
       "0    Throwbacks           0  \n",
       "0    Throwbacks           0  \n",
       "0    Throwbacks           0  "
      ]
     },
     "execution_count": 10,
     "metadata": {},
     "output_type": "execute_result"
    }
   ],
   "source": [
    "df_musicas = df_musicas[['track_uri', 'artist_uri', 'album_uri', 'playlist_name', 'playlist_id']]\n",
    "\n",
    "df_musicas['track_uri'] = df_musicas['track_uri'].str.replace('spotify:track:', '')\n",
    "df_musicas['artist_uri'] = df_musicas['artist_uri'].str.replace('spotify:artist:', '')\n",
    "df_musicas['album_uri'] = df_musicas['album_uri'].str.replace('spotify:album:', '')\n",
    "\n",
    "df_musicas.head(5)"
   ]
  },
  {
   "cell_type": "code",
   "execution_count": 11,
   "metadata": {},
   "outputs": [
    {
     "data": {
      "text/plain": [
       "{'id': '0UaMYEvWZi0ZqiDOoHU3YI',\n",
       " 'name': 'Lose Control (feat. Ciara & Fat Man Scoop)',\n",
       " 'explicit': True,\n",
       " 'duration_ms': 226864,\n",
       " 'popularity': 69,\n",
       " 'danceability': 0.904,\n",
       " 'energy': 0.813,\n",
       " 'key': 4,\n",
       " 'loudness': -7.105,\n",
       " 'mode': 0,\n",
       " 'speechiness': 0.121,\n",
       " 'acousticness': 0.0311,\n",
       " 'instrumentalness': 0.00697,\n",
       " 'liveness': 0.0471,\n",
       " 'valence': 0.81,\n",
       " 'tempo': 125.461,\n",
       " 'time_signature': 4}"
      ]
     },
     "execution_count": 11,
     "metadata": {},
     "output_type": "execute_result"
    }
   ],
   "source": [
    "get_music_features('0UaMYEvWZi0ZqiDOoHU3YI')"
   ]
  },
  {
   "cell_type": "code",
   "execution_count": 12,
   "metadata": {},
   "outputs": [],
   "source": [
    "# Adiciona as features de música\n",
    "df_musicas = df_musicas.merge(\n",
    "    df_musicas['track_uri'].apply(get_music_features).apply(pd.Series),\n",
    "    left_index=True,\n",
    "    right_index=True\n",
    ")\n",
    "\n",
    "# Adiciona as features de álbum\n",
    "df_musicas = df_musicas.merge(\n",
    "    df_musicas['album_uri'].apply(get_album_features).apply(pd.Series),\n",
    "    left_index=True,\n",
    "    right_index=True\n",
    ")\n",
    "\n",
    "# Adiciona as features de artista\n",
    "df_musicas = df_musicas.merge(\n",
    "    df_musicas['artist_uri'].apply(get_artist_features).apply(pd.Series),\n",
    "    left_index=True,\n",
    "    right_index=True\n",
    ")\n",
    "\n",
    "\n",
    "df_musicas.head(5)"
   ]
  }
 ],
 "metadata": {
  "kernelspec": {
   "display_name": "Python 3",
   "language": "python",
   "name": "python3"
  },
  "language_info": {
   "codemirror_mode": {
    "name": "ipython",
    "version": 3
   },
   "file_extension": ".py",
   "mimetype": "text/x-python",
   "name": "python",
   "nbconvert_exporter": "python",
   "pygments_lexer": "ipython3",
   "version": "3.8.10"
  },
  "orig_nbformat": 4
 },
 "nbformat": 4,
 "nbformat_minor": 2
}
